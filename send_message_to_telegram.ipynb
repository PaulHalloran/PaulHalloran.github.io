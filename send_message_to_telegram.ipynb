{
 "cells": [
  {
   "cell_type": "code",
   "execution_count": 14,
   "id": "1aff9350-2ecf-4684-b1e6-14ff05c87e1c",
   "metadata": {},
   "outputs": [],
   "source": [
    "import telegram_send\n",
    "with open(\"/Users/ph290/Desktop/delete.png\", \"rb\") as f:\n",
    "#     telegram_send.send(images=[f])\n",
    "    telegram_send.send(captions=[\"Motion is Detected\"],images=[f])"
   ]
  },
  {
   "cell_type": "code",
   "execution_count": 4,
   "id": "14e7f590-2bd7-4651-88a5-67b4b0ada8de",
   "metadata": {},
   "outputs": [
    {
     "data": {
      "text/plain": [
       "['AppDirs',\n",
       " 'ConfigError',\n",
       " 'MAX_MESSAGE_LENGTH',\n",
       " '__all__',\n",
       " '__builtins__',\n",
       " '__cached__',\n",
       " '__doc__',\n",
       " '__file__',\n",
       " '__loader__',\n",
       " '__name__',\n",
       " '__package__',\n",
       " '__spec__',\n",
       " '__version__',\n",
       " 'argparse',\n",
       " 'check_output',\n",
       " 'clean',\n",
       " 'colorama',\n",
       " 'configparser',\n",
       " 'configure',\n",
       " 'dirname',\n",
       " 'exists',\n",
       " 'expanduser',\n",
       " 'get_config_path',\n",
       " 'global_config',\n",
       " 'integrate_file_manager',\n",
       " 'join',\n",
       " 'main',\n",
       " 'makedirs',\n",
       " 'markup',\n",
       " 'pre',\n",
       " 'randint',\n",
       " 're',\n",
       " 'readline',\n",
       " 'remove',\n",
       " 'send',\n",
       " 'split_message',\n",
       " 'sys',\n",
       " 'telegram',\n",
       " 'warn',\n",
       " 'which']"
      ]
     },
     "execution_count": 4,
     "metadata": {},
     "output_type": "execute_result"
    }
   ],
   "source": [
    "dir(telegram_send)"
   ]
  },
  {
   "cell_type": "code",
   "execution_count": 5,
   "id": "a2e0128f-c751-4d5c-ae8f-c210044df947",
   "metadata": {},
   "outputs": [
    {
     "name": "stdout",
     "output_type": "stream",
     "text": [
      "Help on module telegram_send:\n",
      "\n",
      "NAME\n",
      "    telegram_send\n",
      "\n",
      "DESCRIPTION\n",
      "    # -*- coding: utf-8 -*-\n",
      "    # telegram-send - Send messages and files over Telegram from the command-line\n",
      "    # Copyright (C) 2016-2019  Rahiel Kasim\n",
      "    #\n",
      "    # This program is free software: you can redistribute it and/or modify\n",
      "    # it under the terms of the GNU General Public License as published by\n",
      "    # the Free Software Foundation, either version 3 of the License, or\n",
      "    # (at your option) any later version.\n",
      "    #\n",
      "    # This program is distributed in the hope that it will be useful,\n",
      "    # but WITHOUT ANY WARRANTY; without even the implied warranty of\n",
      "    # MERCHANTABILITY or FITNESS FOR A PARTICULAR PURPOSE.  See the\n",
      "    # GNU General Public License for more details.\n",
      "    #\n",
      "    # You should have received a copy of the GNU General Public License\n",
      "    # along with this program.  If not, see <http://www.gnu.org/licenses/>.\n",
      "\n",
      "FUNCTIONS\n",
      "    configure(conf, channel=False, group=False, fm_integration=False)\n",
      "        Guide user to set up the bot, saves configuration at `conf`.\n",
      "        \n",
      "        # Arguments\n",
      "        \n",
      "        conf (str): Path where to save the configuration file. May contain `~` for\n",
      "                    user's home.\n",
      "        channel (Optional[bool]): Configure a channel.\n",
      "        group (Optional[bool]): Configure a group.\n",
      "        fm_integration (Optional[bool]): Setup file manager integration.\n",
      "    \n",
      "    send(*, messages=None, files=None, images=None, stickers=None, animations=None, videos=None, audios=None, captions=None, locations=None, conf=None, parse_mode=None, silent=False, disable_web_page_preview=False, timeout=30)\n",
      "        Send data over Telegram. All arguments are optional.\n",
      "        \n",
      "        Always use this function with explicit keyword arguments. So\n",
      "        `send(messages=[\"Hello!\"])` instead of `send([\"Hello!\"])`.\n",
      "        \n",
      "        The `file` type is the [file object][] returned by the `open()` function.\n",
      "        To send an image/file you open it in binary mode:\n",
      "        ``` python\n",
      "        import telegram_send\n",
      "        \n",
      "        with open(\"image.jpg\", \"rb\") as f:\n",
      "            telegram_send.send(images=[f])\n",
      "        ```\n",
      "        \n",
      "        [file object]: https://docs.python.org/3/glossary.html#term-file-object\n",
      "        \n",
      "        # Arguments\n",
      "        \n",
      "        conf (str): Path of configuration file to use. Will use the default config if not specified.\n",
      "                    `~` expands to user's home directory.\n",
      "        messages (List[str]): The messages to send.\n",
      "        parse_mode (str): Specifies formatting of messages, one of `[\"text\", \"markdown\", \"html\"]`.\n",
      "        files (List[file]): The files to send.\n",
      "        images (List[file]): The images to send.\n",
      "        stickers (List[file]): The stickers to send.\n",
      "        animations (List[file]): The animations to send.\n",
      "        videos (List[file]): The videos to send.\n",
      "        audios (List[file]): The audios to send.\n",
      "        captions (List[str]): The captions to send with the images/files/animations/videos or audios.\n",
      "        locations (List[str]): The locations to send. Locations are strings containing the latitude and longitude\n",
      "                               separated by whitespace or a comma.\n",
      "        silent (bool): Send silently without sound.\n",
      "        disable_web_page_preview (bool): Disables web page previews for all links in the messages.\n",
      "        timeout (int|float): The read timeout for network connections in seconds.\n",
      "\n",
      "DATA\n",
      "    __all__ = ['configure', 'send']\n",
      "\n",
      "VERSION\n",
      "    0.25\n",
      "\n",
      "FILE\n",
      "    /Users/ph290/opt/anaconda3/lib/python3.8/site-packages/telegram_send.py\n",
      "\n",
      "\n"
     ]
    }
   ],
   "source": [
    "help(telegram_send)"
   ]
  },
  {
   "cell_type": "code",
   "execution_count": null,
   "id": "c19bc6ad-2c71-477d-8b13-25bc175276da",
   "metadata": {},
   "outputs": [],
   "source": []
  }
 ],
 "metadata": {
  "kernelspec": {
   "display_name": "Python 3",
   "language": "python",
   "name": "python3"
  },
  "language_info": {
   "codemirror_mode": {
    "name": "ipython",
    "version": 3
   },
   "file_extension": ".py",
   "mimetype": "text/x-python",
   "name": "python",
   "nbconvert_exporter": "python",
   "pygments_lexer": "ipython3",
   "version": "3.8.8"
  }
 },
 "nbformat": 4,
 "nbformat_minor": 5
}
